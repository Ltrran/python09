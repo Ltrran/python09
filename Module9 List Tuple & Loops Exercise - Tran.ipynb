{
 "cells": [
  {
   "cell_type": "markdown",
   "metadata": {},
   "source": [
    "### Exercise 1\n",
    "Ask a user for 5 names and place each one in to a list called <i>names</i>. Then, print <i>names</i>."
   ]
  },
  {
   "cell_type": "code",
   "execution_count": 1,
   "metadata": {},
   "outputs": [
    {
     "name": "stdout",
     "output_type": "stream",
     "text": [
      "Enter first name: apple\n",
      "Enter second name: b\n",
      "Enter third name: c\n",
      "Enter fourth name: d\n",
      "Enter fifth name: e\n",
      "['apple', 'b', 'c', 'd', 'e']\n"
     ]
    }
   ],
   "source": [
    "\n",
    "name1 = input(\"Enter first name: \")\n",
    "name2 = input(\"Enter second name: \")\n",
    "name3 = input(\"Enter third name: \")\n",
    "name4 = input(\"Enter fourth name: \")\n",
    "name5 = input(\"Enter fifth name: \")\n",
    "\n",
    "names = [name1, name2, name3, name4, name5]\n",
    "\n",
    "print(names)\n",
    "\n"
   ]
  },
  {
   "cell_type": "markdown",
   "metadata": {},
   "source": [
    "### Exercise 2\n",
    "Print out a randomly selected name in the names list from exercise 1."
   ]
  },
  {
   "cell_type": "code",
   "execution_count": 2,
   "metadata": {},
   "outputs": [
    {
     "name": "stdout",
     "output_type": "stream",
     "text": [
      "e\n"
     ]
    }
   ],
   "source": [
    "import random\n",
    "\n",
    "names = [name1, name2, name3, name4, name5]\n",
    "random_name = random.choice(names)\n",
    "print(random_name)"
   ]
  },
  {
   "cell_type": "markdown",
   "metadata": {},
   "source": [
    "### Exercise 3: \n",
    "Fix bugs in the next cell.  It is trying to create a list for even numbers between two numbers provided by a user.\n"
   ]
  },
  {
   "cell_type": "code",
   "execution_count": 6,
   "metadata": {},
   "outputs": [
    {
     "name": "stdout",
     "output_type": "stream",
     "text": [
      "Enter a starting number: 0\n",
      "Enter an ending number: 10\n",
      "[0, 1, 2, 3, 4, 5, 6, 7, 8, 9]\n",
      "[0, 2, 4, 6, 8]\n"
     ]
    }
   ],
   "source": [
    "no1 = int(input(\"Enter a starting number: \"))\n",
    "no2 = int(input(\"Enter an ending number: \"))\n",
    "\n",
    "numbers = []\n",
    "evens = []\n",
    "\n",
    "for i in range(no1, no2) :\n",
    "    numbers.append(i) \n",
    "    if (i%2 == 0) :    # even number\n",
    "        evens.append(i)\n",
    "    \n",
    "print(numbers)    \n",
    "print(evens)"
   ]
  },
  {
   "cell_type": "markdown",
   "metadata": {},
   "source": [
    "### Exercise 4\n",
    "Finish writing a program to generate 10 random numbers between 1 and 100 and save it to a list.\n",
    "Finally, print out the original numbers followed by the smallest, largest, and average number."
   ]
  },
  {
   "cell_type": "code",
   "execution_count": null,
   "metadata": {},
   "outputs": [],
   "source": [
    "import random as rand\n",
    "\n",
    "numbers = []\n",
    "total = 0\n",
    "\n",
    "for i in range(1, 11) :  \n",
    "    numb = rand.randint(1, 100) \n",
    "    total += numb\n",
    "    numbers.append(numb)\n",
    "\n",
    "    \n",
    "# some code needed here to find the smallest, largest, and average number\n",
    "\n",
    "\n",
    "\n",
    "\n",
    "\n",
    "\n",
    "print(f\"Org Numbers are {org_numbs}\")\n",
    "print(f\"Sorted numbers are {numbers}\")\n",
    "print(f\"Largest number is {largest}\")\n",
    "print(f\"Smallest number is {smallest}\")\n",
    "print(f\"Average is {avg}\")"
   ]
  },
  {
   "cell_type": "code",
   "execution_count": 7,
   "metadata": {},
   "outputs": [
    {
     "name": "stdout",
     "output_type": "stream",
     "text": [
      "Org Numbers are [59, 53, 26, 39, 6, 36, 15, 4, 89, 96]\n",
      "Sorted numbers are [4, 6, 15, 26, 36, 39, 53, 59, 89, 96]\n",
      "Largest number is 96\n",
      "Smallest number is 4\n",
      "Average is 42.3\n"
     ]
    }
   ],
   "source": [
    "import random as rand\n",
    "\n",
    "numbers = []\n",
    "total = 0\n",
    "\n",
    "for i in range(1, 11):   # for quantity of ten random numbers \n",
    "    numb = rand.randint(1, 100) # between 1 and 100\n",
    "    total += numb\n",
    "    numbers.append(numb)\n",
    "\n",
    "# Finding the smallest, largest, and average number\n",
    "smallest = min(numbers)\n",
    "largest = max(numbers)\n",
    "avg = total / len(numbers)\n",
    "\n",
    "print(f\"Org Numbers are {numbers}\")\n",
    "print(f\"Sorted numbers are {sorted(numbers)}\")  # Sort the numbers for clarity\n",
    "print(f\"Largest number is {largest}\")\n",
    "print(f\"Smallest number is {smallest}\")\n",
    "print(f\"Average is {avg}\")\n"
   ]
  },
  {
   "cell_type": "markdown",
   "metadata": {},
   "source": [
    "### Exercise 5\n",
    "\n",
    "Write a function called <b>draw_triangle()</b> to draw a right triangle where the base of the triangle is the number passed in as an arguement. Call <b>draw_triangle()</b> to show it works.\n",
    "\n",
    "e.g. <b>draw_triangle(7)</b> draws as below:\n",
    "\n",
    "    *\n",
    "    **\n",
    "    ***\n",
    "    ****\n",
    "    *****\n",
    "    ******\n",
    "    *******\n"
   ]
  },
  {
   "cell_type": "code",
   "execution_count": 12,
   "metadata": {},
   "outputs": [
    {
     "name": "stdout",
     "output_type": "stream",
     "text": [
      "*\n",
      "**\n",
      "***\n",
      "****\n",
      "*****\n",
      "******\n",
      "*******\n"
     ]
    }
   ],
   "source": [
    "# write code for draw_triangle() function\n",
    "\n",
    "def draw_triangle(base):\n",
    "    for i in range(1, base + 1):\n",
    "        print('*' * i)\n",
    "\n",
    "draw_triangle(7)"
   ]
  },
  {
   "cell_type": "code",
   "execution_count": 10,
   "metadata": {},
   "outputs": [
    {
     "name": "stdout",
     "output_type": "stream",
     "text": [
      "Enter a number: 10\n",
      "*\n",
      "**\n",
      "***\n",
      "****\n",
      "*****\n",
      "******\n",
      "*******\n",
      "********\n",
      "*********\n",
      "**********\n"
     ]
    }
   ],
   "source": [
    "base = int(input(\"Enter a number: \"))\n",
    "\n",
    "\n",
    "\n",
    "draw_triangle(base)"
   ]
  },
  {
   "cell_type": "code",
   "execution_count": null,
   "metadata": {},
   "outputs": [],
   "source": []
  }
 ],
 "metadata": {
  "kernelspec": {
   "display_name": "Python 3 (ipykernel)",
   "language": "python",
   "name": "python3"
  },
  "language_info": {
   "codemirror_mode": {
    "name": "ipython",
    "version": 3
   },
   "file_extension": ".py",
   "mimetype": "text/x-python",
   "name": "python",
   "nbconvert_exporter": "python",
   "pygments_lexer": "ipython3",
   "version": "3.11.5"
  }
 },
 "nbformat": 4,
 "nbformat_minor": 4
}
